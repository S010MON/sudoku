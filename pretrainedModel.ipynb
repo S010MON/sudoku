{
 "cells": [
  {
   "cell_type": "code",
   "execution_count": 8,
   "id": "e4be4a53",
   "metadata": {},
   "outputs": [],
   "source": [
    "import os\n",
    "\n",
    "import numpy as np\n",
    "import tensorflow as tf\n",
    "from tensorflow import keras\n",
    "\n",
    "from nn_utils import create_model, one_hot_encode\n",
    "import stateFactory"
   ]
  },
  {
   "cell_type": "code",
   "execution_count": 11,
   "id": "96c0cf73",
   "metadata": {},
   "outputs": [
    {
     "name": "stdout",
     "output_type": "stream",
     "text": [
      "Model: \"sequential_6\"\n",
      "_________________________________________________________________\n",
      " Layer (type)                Output Shape              Param #   \n",
      "=================================================================\n",
      " conv2d_44 (Conv2D)          (None, 81, 9, 64)         640       \n",
      "                                                                 \n",
      " conv2d_45 (Conv2D)          (None, 81, 9, 64)         36928     \n",
      "                                                                 \n",
      " conv2d_46 (Conv2D)          (None, 81, 9, 64)         36928     \n",
      "                                                                 \n",
      " conv2d_47 (Conv2D)          (None, 81, 9, 64)         36928     \n",
      "                                                                 \n",
      " conv2d_48 (Conv2D)          (None, 81, 9, 64)         36928     \n",
      "                                                                 \n",
      " conv2d_49 (Conv2D)          (None, 81, 9, 32)         18464     \n",
      "                                                                 \n",
      " conv2d_50 (Conv2D)          (None, 81, 9, 32)         9248      \n",
      "                                                                 \n",
      " conv2d_51 (Conv2D)          (None, 81, 9, 32)         9248      \n",
      "                                                                 \n",
      " conv2d_52 (Conv2D)          (None, 81, 9, 32)         9248      \n",
      "                                                                 \n",
      " conv2d_53 (Conv2D)          (None, 81, 9, 16)         4624      \n",
      "                                                                 \n",
      " conv2d_54 (Conv2D)          (None, 81, 9, 16)         2320      \n",
      "                                                                 \n",
      " conv2d_55 (Conv2D)          (None, 81, 9, 16)         2320      \n",
      "                                                                 \n",
      " conv2d_56 (Conv2D)          (None, 81, 9, 16)         2320      \n",
      "                                                                 \n",
      " conv2d_57 (Conv2D)          (None, 81, 9, 1)          145       \n",
      "                                                                 \n",
      "=================================================================\n",
      "Total params: 206,289\n",
      "Trainable params: 206,289\n",
      "Non-trainable params: 0\n",
      "_________________________________________________________________\n"
     ]
    }
   ],
   "source": [
    "model = tf.keras.models.load_model('model_2')\n",
    "model.summary()"
   ]
  },
  {
   "cell_type": "code",
   "execution_count": 16,
   "id": "494b1394",
   "metadata": {},
   "outputs": [
    {
     "name": "stdout",
     "output_type": "stream",
     "text": [
      "(1, 81, 9)\n",
      "1/1 [==============================] - 0s 11ms/step\n"
     ]
    }
   ],
   "source": [
    "# Predict results\n",
    "\n",
    "test_sudoku = stateFactory.generate_valid_state()\n",
    "test_sudoku_input = np.array([one_hot_encode(test_sudoku.board)])\n",
    "print(test_sudoku_input.shape)\n",
    "\n",
    "\n",
    "prediction = model.predict(test_sudoku_input)\n"
   ]
  },
  {
   "cell_type": "code",
   "execution_count": null,
   "id": "48a7c4e3",
   "metadata": {},
   "outputs": [],
   "source": []
  }
 ],
 "metadata": {
  "kernelspec": {
   "display_name": "Python 3 (ipykernel)",
   "language": "python",
   "name": "python3"
  },
  "language_info": {
   "codemirror_mode": {
    "name": "ipython",
    "version": 3
   },
   "file_extension": ".py",
   "mimetype": "text/x-python",
   "name": "python",
   "nbconvert_exporter": "python",
   "pygments_lexer": "ipython3",
   "version": "3.10.6"
  }
 },
 "nbformat": 4,
 "nbformat_minor": 5
}
