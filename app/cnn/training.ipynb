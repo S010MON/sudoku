{
 "cells": [
  {
   "cell_type": "code",
   "execution_count": 1,
   "metadata": {},
   "outputs": [
    {
     "name": "stderr",
     "output_type": "stream",
     "text": [
      "2023-03-12 13:04:24.430235: I tensorflow/core/platform/cpu_feature_guard.cc:193] This TensorFlow binary is optimized with oneAPI Deep Neural Network Library (oneDNN) to use the following CPU instructions in performance-critical operations:  AVX2 FMA\n",
      "To enable them in other operations, rebuild TensorFlow with the appropriate compiler flags.\n",
      "2023-03-12 13:04:24.519194: W tensorflow/compiler/xla/stream_executor/platform/default/dso_loader.cc:64] Could not load dynamic library 'libcudart.so.11.0'; dlerror: libcudart.so.11.0: cannot open shared object file: No such file or directory\n",
      "2023-03-12 13:04:24.519209: I tensorflow/compiler/xla/stream_executor/cuda/cudart_stub.cc:29] Ignore above cudart dlerror if you do not have a GPU set up on your machine.\n",
      "2023-03-12 13:04:24.965123: W tensorflow/compiler/xla/stream_executor/platform/default/dso_loader.cc:64] Could not load dynamic library 'libnvinfer.so.7'; dlerror: libnvinfer.so.7: cannot open shared object file: No such file or directory\n",
      "2023-03-12 13:04:24.965163: W tensorflow/compiler/xla/stream_executor/platform/default/dso_loader.cc:64] Could not load dynamic library 'libnvinfer_plugin.so.7'; dlerror: libnvinfer_plugin.so.7: cannot open shared object file: No such file or directory\n",
      "2023-03-12 13:04:24.965167: W tensorflow/compiler/tf2tensorrt/utils/py_utils.cc:38] TF-TRT Warning: Cannot dlopen some TensorRT libraries. If you would like to use Nvidia GPU with TensorRT, please make sure the missing libraries mentioned above are installed properly.\n"
     ]
    }
   ],
   "source": [
    "# Imports\n",
    "import tensorflow as tf\n",
    "import numpy as np\n",
    "from sklearn.model_selection import train_test_split\n",
    "\n",
    "from nn_utils import create_model, one_hot_encode"
   ]
  },
  {
   "cell_type": "code",
   "execution_count": 2,
   "metadata": {},
   "outputs": [],
   "source": [
    "quizzes = np.zeros((1000000, 81), np.int32)\n",
    "solutions = np.zeros((1000000, 81), np.int32)\n",
    "\n",
    "for i, line in enumerate(open('sudoku.csv', 'r').read().splitlines()[1:]):\n",
    "    quiz, solution = line.split(\",\")\n",
    "    for j, q_s in enumerate(zip(quiz, solution)):\n",
    "        q, s = q_s\n",
    "        quizzes[i, j] = q\n",
    "        solutions[i, j] = s\n",
    "\n",
    "X = quizzes.reshape((-1, 9, 9))\n",
    "Y = solutions.reshape((-1, 9, 9))\n",
    "\n",
    "assert len(X) == len(Y)               # Check same number of X's and Y'x loaded"
   ]
  },
  {
   "cell_type": "code",
   "execution_count": 4,
   "metadata": {},
   "outputs": [
    {
     "name": "stdout",
     "output_type": "stream",
     "text": [
      "14861 malformed\n",
      "118801 malformed\n",
      "147953 malformed\n",
      "168906 malformed\n",
      "228197 malformed\n",
      "482410 malformed\n",
      "760120 malformed\n",
      "781414 malformed\n",
      "865168 malformed\n",
      "994456 malformed\n"
     ]
    }
   ],
   "source": [
    "assert one_hot_encode(X[0]).shape == (81,9) # Check output shape of OHE puzzle\n",
    "\n",
    "# Create a new Tensor to hold the One Hot Encoded puzzles\n",
    "shape = one_hot_encode(X[0]).shape\n",
    "X_ohe = np.ndarray((len(X), shape[0], shape[1]))\n",
    "Y_ohe = np.ndarray((len(Y), shape[0], shape[1]))\n",
    "\n",
    "for i in range(len(X)):\n",
    "    try:\n",
    "        X_ohe[i] = one_hot_encode(X[i])\n",
    "        Y_ohe[i] = one_hot_encode(Y[i])\n",
    "    except ValueError:\n",
    "        print(f\"{i} malformed\")"
   ]
  },
  {
   "cell_type": "code",
   "execution_count": 5,
   "metadata": {},
   "outputs": [
    {
     "name": "stdout",
     "output_type": "stream",
     "text": [
      "Training X: (990000, 81, 9)\n",
      "Training Y: (990000, 81, 9)\n"
     ]
    }
   ],
   "source": [
    "# Training/Test split\n",
    "X_train, X_test, Y_train, Y_test = train_test_split(X_ohe, Y_ohe, test_size=0.01, random_state=42)\n",
    "\n",
    "print(f\"Training X: {X_train.shape}\")\n",
    "print(f\"Training Y: {Y_train.shape}\")"
   ]
  },
  {
   "cell_type": "code",
   "execution_count": 6,
   "metadata": {},
   "outputs": [
    {
     "name": "stdout",
     "output_type": "stream",
     "text": [
      "Model: \"sequential\"\n",
      "_________________________________________________________________\n",
      " Layer (type)                Output Shape              Param #   \n",
      "=================================================================\n",
      " conv2d (Conv2D)             (None, 81, 9, 64)         640       \n",
      "                                                                 \n",
      " conv2d_1 (Conv2D)           (None, 81, 9, 64)         36928     \n",
      "                                                                 \n",
      " conv2d_2 (Conv2D)           (None, 81, 9, 64)         36928     \n",
      "                                                                 \n",
      " conv2d_3 (Conv2D)           (None, 81, 9, 64)         36928     \n",
      "                                                                 \n",
      " conv2d_4 (Conv2D)           (None, 81, 9, 64)         36928     \n",
      "                                                                 \n",
      " conv2d_5 (Conv2D)           (None, 81, 9, 32)         18464     \n",
      "                                                                 \n",
      " conv2d_6 (Conv2D)           (None, 81, 9, 32)         9248      \n",
      "                                                                 \n",
      " conv2d_7 (Conv2D)           (None, 81, 9, 32)         9248      \n",
      "                                                                 \n",
      " conv2d_8 (Conv2D)           (None, 81, 9, 32)         9248      \n",
      "                                                                 \n",
      " conv2d_9 (Conv2D)           (None, 81, 9, 16)         4624      \n",
      "                                                                 \n",
      " conv2d_10 (Conv2D)          (None, 81, 9, 16)         2320      \n",
      "                                                                 \n",
      " conv2d_11 (Conv2D)          (None, 81, 9, 16)         2320      \n",
      "                                                                 \n",
      " conv2d_12 (Conv2D)          (None, 81, 9, 16)         2320      \n",
      "                                                                 \n",
      " conv2d_13 (Conv2D)          (None, 81, 9, 1)          145       \n",
      "                                                                 \n",
      "=================================================================\n",
      "Total params: 206,289\n",
      "Trainable params: 206,289\n",
      "Non-trainable params: 0\n",
      "_________________________________________________________________\n"
     ]
    },
    {
     "name": "stderr",
     "output_type": "stream",
     "text": [
      "2023-03-12 13:06:08.224552: W tensorflow/compiler/xla/stream_executor/platform/default/dso_loader.cc:64] Could not load dynamic library 'libcuda.so.1'; dlerror: libcuda.so.1: cannot open shared object file: No such file or directory\n",
      "2023-03-12 13:06:08.224569: W tensorflow/compiler/xla/stream_executor/cuda/cuda_driver.cc:265] failed call to cuInit: UNKNOWN ERROR (303)\n",
      "2023-03-12 13:06:08.224586: I tensorflow/compiler/xla/stream_executor/cuda/cuda_diagnostics.cc:156] kernel driver does not appear to be running on this host (pop-os): /proc/driver/nvidia/version does not exist\n",
      "2023-03-12 13:06:08.224746: I tensorflow/core/platform/cpu_feature_guard.cc:193] This TensorFlow binary is optimized with oneAPI Deep Neural Network Library (oneDNN) to use the following CPU instructions in performance-critical operations:  AVX2 FMA\n",
      "To enable them in other operations, rebuild TensorFlow with the appropriate compiler flags.\n"
     ]
    }
   ],
   "source": [
    "# Create model of the Neural Network\n",
    "# Model based on this paper: https://cs230.stanford.edu/files_winter_2018/projects/6939771.pdf\n",
    "model = create_model()\n",
    "model.compile(loss='binary_crossentropy', \n",
    "              optimizer='adam', \n",
    "              metrics='binary_accuracy')\n",
    "model.summary()"
   ]
  },
  {
   "cell_type": "code",
   "execution_count": null,
   "metadata": {},
   "outputs": [],
   "source": [
    "# Fit model to training data\n",
    "model.fit(X_train, Y_train, batch_size=2, epochs=1)"
   ]
  },
  {
   "cell_type": "code",
   "execution_count": null,
   "metadata": {},
   "outputs": [],
   "source": [
    "# Evaluate model\n",
    "model.evaluate(X_test, Y_test)"
   ]
  },
  {
   "cell_type": "code",
   "execution_count": null,
   "metadata": {},
   "outputs": [],
   "source": [
    "tf.keras.models.save_model(model,\"model/\")"
   ]
  }
 ],
 "metadata": {
  "kernelspec": {
   "display_name": "Python 3 (ipykernel)",
   "language": "python",
   "name": "python3"
  },
  "language_info": {
   "codemirror_mode": {
    "name": "ipython",
    "version": 3
   },
   "file_extension": ".py",
   "mimetype": "text/x-python",
   "name": "python",
   "nbconvert_exporter": "python",
   "pygments_lexer": "ipython3",
   "version": "3.10.6"
  }
 },
 "nbformat": 4,
 "nbformat_minor": 1
}
