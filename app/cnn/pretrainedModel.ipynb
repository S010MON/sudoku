{
 "cells": [
  {
   "cell_type": "code",
   "execution_count": 3,
   "id": "e4be4a53",
   "metadata": {},
   "outputs": [],
   "source": [
    "import os\n",
    "\n",
    "import numpy as np\n",
    "import tensorflow as tf\n",
    "from tensorflow import keras\n",
    "\n",
    "from nn_utils import create_model, one_hot_encode, decode_output\n",
    "import stateFactory"
   ]
  },
  {
   "cell_type": "code",
   "execution_count": 2,
   "id": "96c0cf73",
   "metadata": {},
   "outputs": [
    {
     "name": "stderr",
     "output_type": "stream",
     "text": [
      "2023-03-12 16:37:51.795134: W tensorflow/compiler/xla/stream_executor/platform/default/dso_loader.cc:64] Could not load dynamic library 'libcuda.so.1'; dlerror: libcuda.so.1: cannot open shared object file: No such file or directory\n",
      "2023-03-12 16:37:51.795155: W tensorflow/compiler/xla/stream_executor/cuda/cuda_driver.cc:265] failed call to cuInit: UNKNOWN ERROR (303)\n",
      "2023-03-12 16:37:51.795174: I tensorflow/compiler/xla/stream_executor/cuda/cuda_diagnostics.cc:156] kernel driver does not appear to be running on this host (pop-os): /proc/driver/nvidia/version does not exist\n",
      "2023-03-12 16:37:51.795414: I tensorflow/core/platform/cpu_feature_guard.cc:193] This TensorFlow binary is optimized with oneAPI Deep Neural Network Library (oneDNN) to use the following CPU instructions in performance-critical operations:  AVX2 AVX512F AVX512_VNNI FMA\n",
      "To enable them in other operations, rebuild TensorFlow with the appropriate compiler flags.\n"
     ]
    },
    {
     "name": "stdout",
     "output_type": "stream",
     "text": [
      "Model: \"sequential_6\"\n",
      "_________________________________________________________________\n",
      " Layer (type)                Output Shape              Param #   \n",
      "=================================================================\n",
      " conv2d_44 (Conv2D)          (None, 81, 9, 64)         640       \n",
      "                                                                 \n",
      " conv2d_45 (Conv2D)          (None, 81, 9, 64)         36928     \n",
      "                                                                 \n",
      " conv2d_46 (Conv2D)          (None, 81, 9, 64)         36928     \n",
      "                                                                 \n",
      " conv2d_47 (Conv2D)          (None, 81, 9, 64)         36928     \n",
      "                                                                 \n",
      " conv2d_48 (Conv2D)          (None, 81, 9, 64)         36928     \n",
      "                                                                 \n",
      " conv2d_49 (Conv2D)          (None, 81, 9, 32)         18464     \n",
      "                                                                 \n",
      " conv2d_50 (Conv2D)          (None, 81, 9, 32)         9248      \n",
      "                                                                 \n",
      " conv2d_51 (Conv2D)          (None, 81, 9, 32)         9248      \n",
      "                                                                 \n",
      " conv2d_52 (Conv2D)          (None, 81, 9, 32)         9248      \n",
      "                                                                 \n",
      " conv2d_53 (Conv2D)          (None, 81, 9, 16)         4624      \n",
      "                                                                 \n",
      " conv2d_54 (Conv2D)          (None, 81, 9, 16)         2320      \n",
      "                                                                 \n",
      " conv2d_55 (Conv2D)          (None, 81, 9, 16)         2320      \n",
      "                                                                 \n",
      " conv2d_56 (Conv2D)          (None, 81, 9, 16)         2320      \n",
      "                                                                 \n",
      " conv2d_57 (Conv2D)          (None, 81, 9, 1)          145       \n",
      "                                                                 \n",
      "=================================================================\n",
      "Total params: 206,289\n",
      "Trainable params: 206,289\n",
      "Non-trainable params: 0\n",
      "_________________________________________________________________\n"
     ]
    }
   ],
   "source": [
    "model = tf.keras.models.load_model('model_2')\n",
    "model.summary()"
   ]
  },
  {
   "cell_type": "code",
   "execution_count": 4,
   "id": "494b1394",
   "metadata": {},
   "outputs": [
    {
     "name": "stdout",
     "output_type": "stream",
     "text": [
      "(1, 81, 9)\n",
      "1/1 [==============================] - 0s 171ms/step\n"
     ]
    }
   ],
   "source": [
    "# Predict results\n",
    "\n",
    "test_sudoku = stateFactory.generate_valid_state()\n",
    "test_sudoku_input = np.array([one_hot_encode(test_sudoku.board)])\n",
    "print(test_sudoku_input.shape)\n",
    "\n",
    "\n",
    "prediction = model.predict(test_sudoku_input)"
   ]
  },
  {
   "cell_type": "code",
   "execution_count": 5,
   "id": "48a7c4e3",
   "metadata": {},
   "outputs": [
    {
     "ename": "ValueError",
     "evalue": "cannot reshape array of size 9 into shape (9,9)",
     "output_type": "error",
     "traceback": [
      "\u001b[0;31m---------------------------------------------------------------------------\u001b[0m",
      "\u001b[0;31mValueError\u001b[0m                                Traceback (most recent call last)",
      "Input \u001b[0;32mIn [5]\u001b[0m, in \u001b[0;36m<cell line: 1>\u001b[0;34m()\u001b[0m\n\u001b[0;32m----> 1\u001b[0m \u001b[43mdecode_output\u001b[49m\u001b[43m(\u001b[49m\u001b[43mprediction\u001b[49m\u001b[43m)\u001b[49m\n",
      "File \u001b[0;32m~/git/sudoku/nn_utils.py:39\u001b[0m, in \u001b[0;36mdecode_output\u001b[0;34m(sud)\u001b[0m\n\u001b[1;32m     35\u001b[0m \u001b[38;5;28;01mdef\u001b[39;00m \u001b[38;5;21mdecode_output\u001b[39m(sud):\n\u001b[1;32m     36\u001b[0m     \u001b[38;5;124;03m\"\"\"\u001b[39;00m\n\u001b[1;32m     37\u001b[0m \u001b[38;5;124;03m    Decode a sudoku with the shape 81x9 (from the one_hot_encoding()) into a readable 9x9 sudoku board.\u001b[39;00m\n\u001b[1;32m     38\u001b[0m \u001b[38;5;124;03m    \"\"\"\u001b[39;00m\n\u001b[0;32m---> 39\u001b[0m     sudoku_decoded \u001b[38;5;241m=\u001b[39m \u001b[43mnp\u001b[49m\u001b[38;5;241;43m.\u001b[39;49m\u001b[43margmax\u001b[49m\u001b[43m(\u001b[49m\u001b[43msud\u001b[49m\u001b[43m,\u001b[49m\u001b[43m \u001b[49m\u001b[43maxis\u001b[49m\u001b[38;5;241;43m=\u001b[39;49m\u001b[38;5;241;43m1\u001b[39;49m\u001b[43m)\u001b[49m\u001b[38;5;241;43m.\u001b[39;49m\u001b[43mreshape\u001b[49m\u001b[43m(\u001b[49m\u001b[43m(\u001b[49m\u001b[38;5;241;43m9\u001b[39;49m\u001b[43m,\u001b[49m\u001b[43m \u001b[49m\u001b[38;5;241;43m9\u001b[39;49m\u001b[43m)\u001b[49m\u001b[43m)\u001b[49m \u001b[38;5;241m+\u001b[39m \u001b[38;5;241m1\u001b[39m\n\u001b[1;32m     40\u001b[0m     \u001b[38;5;28;01mreturn\u001b[39;00m sudoku_decoded\n",
      "\u001b[0;31mValueError\u001b[0m: cannot reshape array of size 9 into shape (9,9)"
     ]
    }
   ],
   "source": [
    "decode_output(prediction)"
   ]
  },
  {
   "cell_type": "code",
   "execution_count": null,
   "id": "3101b4a9",
   "metadata": {},
   "outputs": [],
   "source": []
  }
 ],
 "metadata": {
  "kernelspec": {
   "display_name": "Python 3 (ipykernel)",
   "language": "python",
   "name": "python3"
  },
  "language_info": {
   "codemirror_mode": {
    "name": "ipython",
    "version": 3
   },
   "file_extension": ".py",
   "mimetype": "text/x-python",
   "name": "python",
   "nbconvert_exporter": "python",
   "pygments_lexer": "ipython3",
   "version": "3.9.12"
  }
 },
 "nbformat": 4,
 "nbformat_minor": 5
}
