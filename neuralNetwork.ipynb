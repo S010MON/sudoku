{
 "cells": [
  {
   "cell_type": "code",
   "execution_count": 8,
   "metadata": {},
   "outputs": [],
   "source": [
    "# Imports\n",
    "import tensorflow as tf\n",
    "import numpy as np\n",
    "\n",
    "import state\n",
    "import stateFactory\n",
    "import nn_utils\n",
    "from nn_utils import one_hot_encode"
   ]
  },
  {
   "cell_type": "code",
   "execution_count": 9,
   "metadata": {},
   "outputs": [],
   "source": [
    "quizzes = np.zeros((1000000, 81), np.int32)\n",
    "solutions = np.zeros((1000000, 81), np.int32)\n",
    "\n",
    "for i, line in enumerate(open('sudoku.csv', 'r').read().splitlines()[1:]):\n",
    "    quiz, solution = line.split(\",\")\n",
    "    for j, q_s in enumerate(zip(quiz, solution)):\n",
    "        q, s = q_s\n",
    "        quizzes[i, j] = q\n",
    "        solutions[i, j] = s\n",
    "\n",
    "X = quizzes.reshape((-1, 9, 9))\n",
    "Y = solutions.reshape((-1, 9, 9))\n",
    "\n",
    "assert len(X) == len(Y)     # Check same number of X's and Y'x loaded"
   ]
  },
  {
   "cell_type": "code",
   "execution_count": 20,
   "outputs": [],
   "source": [
    "# Create a new 4D Tensor to hold the One Hot Encoded puzzles\n",
    "shape = one_hot_encode(X[0]).shape\n",
    "X_ohe = np.ndarray((len(X), shape[0], shape[1], shape[2]))\n",
    "Y_ohe = np.ndarray((len(Y), shape[0], shape[1], shape[2]))"
   ],
   "metadata": {
    "collapsed": false
   }
  },
  {
   "cell_type": "code",
   "execution_count": 23,
   "outputs": [
    {
     "name": "stdout",
     "output_type": "stream",
     "text": [
      "skipping 14861 due to malformed puzzle\n",
      "skipping 118801 due to malformed puzzle\n",
      "skipping 147953 due to malformed puzzle\n",
      "skipping 168906 due to malformed puzzle\n",
      "skipping 228197 due to malformed puzzle\n",
      "skipping 482410 due to malformed puzzle\n",
      "skipping 760120 due to malformed puzzle\n",
      "skipping 781414 due to malformed puzzle\n",
      "skipping 865168 due to malformed puzzle\n",
      "skipping 994456 due to malformed puzzle\n"
     ]
    }
   ],
   "source": [
    "delete_ids = []\n",
    "\n",
    "for i in range(len(X)):\n",
    "    try:\n",
    "        X_ohe[i] = one_hot_encode(X[i])\n",
    "        Y_ohe[i] = one_hot_encode(Y[i])\n",
    "    except ValueError:\n",
    "        delete_ids.append(i)\n",
    "        print(f\"skipping {i} due to malformed puzzle\")"
   ],
   "metadata": {
    "collapsed": false
   }
  },
  {
   "cell_type": "code",
   "execution_count": 2,
   "metadata": {},
   "outputs": [],
   "source": [
    "# Create model of the Neural Network\n",
    "\n",
    "model = tf.keras.models.Sequential([\n",
    "    tf.keras.layers.Flatten(input_shape=(9, 9, 9)), # Input layer\n",
    "    tf.keras.layers.Dense(units=729, activation='relu'), # Hidden layer\n",
    "    tf.keras.layers.Dense(units=729, activation='relu'), # Hidden layer\n",
    "    tf.keras.layers.Dense(units=729, activation='relu'), # Output layer\n",
    "])"
   ]
  },
  {
   "cell_type": "code",
   "execution_count": 3,
   "metadata": {},
   "outputs": [],
   "source": [
    "# Compiling model\n",
    "\n",
    "model.compile(loss='binary_crossentropy', optimizer='sgd', metrics='accuracy')"
   ]
  },
  {
   "cell_type": "code",
   "execution_count": 11,
   "metadata": {},
   "outputs": [
    {
     "name": "stdout",
     "output_type": "stream",
     "text": [
      "(3, 9, 9)\n"
     ]
    }
   ],
   "source": [
    "# Get data\n",
    "\n",
    "data = None # TODO: Get data\n",
    "\n",
    "# Split into test and training data\n",
    "\n",
    "print(x_train.shape)"
   ]
  },
  {
   "cell_type": "code",
   "execution_count": 14,
   "metadata": {},
   "outputs": [
    {
     "ename": "NameError",
     "evalue": "name 'y_train' is not defined",
     "output_type": "error",
     "traceback": [
      "\u001B[1;31m---------------------------------------------------------------------------\u001B[0m",
      "\u001B[1;31mNameError\u001B[0m                                 Traceback (most recent call last)",
      "Cell \u001B[1;32mIn[14], line 2\u001B[0m\n\u001B[0;32m      1\u001B[0m \u001B[38;5;66;03m# Fit model to training data\u001B[39;00m\n\u001B[1;32m----> 2\u001B[0m model\u001B[38;5;241m.\u001B[39mfit(x_train, \u001B[43my_train\u001B[49m)\n",
      "\u001B[1;31mNameError\u001B[0m: name 'y_train' is not defined"
     ]
    }
   ],
   "source": [
    "# Fit model to training data\n",
    "model.fit(x_train, y_train)"
   ]
  },
  {
   "cell_type": "code",
   "execution_count": 16,
   "metadata": {},
   "outputs": [
    {
     "ename": "NameError",
     "evalue": "name 'x_test' is not defined",
     "output_type": "error",
     "traceback": [
      "\u001B[1;31m---------------------------------------------------------------------------\u001B[0m",
      "\u001B[1;31mNameError\u001B[0m                                 Traceback (most recent call last)",
      "Cell \u001B[1;32mIn[16], line 3\u001B[0m\n\u001B[0;32m      1\u001B[0m \u001B[38;5;66;03m# Evaluate model\u001B[39;00m\n\u001B[1;32m----> 3\u001B[0m model\u001B[38;5;241m.\u001B[39mevaluate(\u001B[43mx_test\u001B[49m, y_test)\n",
      "\u001B[1;31mNameError\u001B[0m: name 'x_test' is not defined"
     ]
    }
   ],
   "source": [
    "# Evaluate model\n",
    "\n",
    "model.evaluate(x_test, y_test)\n",
    "\n"
   ]
  },
  {
   "cell_type": "code",
   "execution_count": null,
   "metadata": {},
   "outputs": [],
   "source": [
    "# Predict results\n",
    "\n",
    "test_sudoku = stateFactory.generate_valid_state()\n",
    "test_sudoku_input = nn_utils.one_hot_encode(test_sudoku.board)\n",
    "\n",
    "prediction = np.array(model.predict(test_sudoku_input)) # Create 1d-array solution\n",
    "prediction_arr = prediction.reshape(9, 9, 9) # Put into 3 dimensions\n",
    "result = nn_utils.get_max_index(prediction_arr) # Extract the max index\n",
    "\n",
    "print(result)"
   ]
  }
 ],
 "metadata": {
  "kernelspec": {
   "display_name": "Python 3 (ipykernel)",
   "language": "python",
   "name": "python3"
  },
  "language_info": {
   "codemirror_mode": {
    "name": "ipython",
    "version": 3
   },
   "file_extension": ".py",
   "mimetype": "text/x-python",
   "name": "python",
   "nbconvert_exporter": "python",
   "pygments_lexer": "ipython3",
   "version": "3.10.6"
  }
 },
 "nbformat": 4,
 "nbformat_minor": 1
}
