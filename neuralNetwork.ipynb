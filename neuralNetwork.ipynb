{
 "cells": [
  {
   "cell_type": "code",
   "execution_count": 1,
   "metadata": {},
   "outputs": [
    {
     "name": "stderr",
     "output_type": "stream",
     "text": [
      "2023-03-08 16:23:21.309748: I tensorflow/core/platform/cpu_feature_guard.cc:193] This TensorFlow binary is optimized with oneAPI Deep Neural Network Library (oneDNN) to use the following CPU instructions in performance-critical operations:  AVX2 FMA\n",
      "To enable them in other operations, rebuild TensorFlow with the appropriate compiler flags.\n",
      "2023-03-08 16:23:21.499530: W tensorflow/compiler/xla/stream_executor/platform/default/dso_loader.cc:64] Could not load dynamic library 'libcudart.so.11.0'; dlerror: libcudart.so.11.0: cannot open shared object file: No such file or directory\n",
      "2023-03-08 16:23:21.499548: I tensorflow/compiler/xla/stream_executor/cuda/cudart_stub.cc:29] Ignore above cudart dlerror if you do not have a GPU set up on your machine.\n",
      "2023-03-08 16:23:22.224601: W tensorflow/compiler/xla/stream_executor/platform/default/dso_loader.cc:64] Could not load dynamic library 'libnvinfer.so.7'; dlerror: libnvinfer.so.7: cannot open shared object file: No such file or directory\n",
      "2023-03-08 16:23:22.224643: W tensorflow/compiler/xla/stream_executor/platform/default/dso_loader.cc:64] Could not load dynamic library 'libnvinfer_plugin.so.7'; dlerror: libnvinfer_plugin.so.7: cannot open shared object file: No such file or directory\n",
      "2023-03-08 16:23:22.224647: W tensorflow/compiler/tf2tensorrt/utils/py_utils.cc:38] TF-TRT Warning: Cannot dlopen some TensorRT libraries. If you would like to use Nvidia GPU with TensorRT, please make sure the missing libraries mentioned above are installed properly.\n"
     ]
    }
   ],
   "source": [
    "# Imports\n",
    "import tensorflow as tf\n",
    "import numpy as np\n",
    "\n",
    "import state\n",
    "import stateFactory\n",
    "import nn_utils"
   ]
  },
  {
   "cell_type": "code",
   "execution_count": 3,
   "metadata": {},
   "outputs": [],
   "source": [
    "quizzes = np.zeros((1000000, 81), np.int32)\n",
    "solutions = np.zeros((1000000, 81), np.int32)\n",
    "\n",
    "for i, line in enumerate(open('sudoku.csv', 'r').read().splitlines()[1:]):\n",
    "    quiz, solution = line.split(\",\")\n",
    "    for j, q_s in enumerate(zip(quiz, solution)):\n",
    "        q, s = q_s\n",
    "        quizzes[i, j] = q\n",
    "        solutions[i, j] = s\n",
    "\n",
    "X = quizzes.reshape((-1, 9, 9))\n",
    "Y = solutions.reshape((-1, 9, 9))"
   ]
  },
  {
   "cell_type": "code",
   "execution_count": 2,
   "metadata": {},
   "outputs": [],
   "source": [
    "# Create model of the Neural Network\n",
    "\n",
    "model = tf.keras.models.Sequential([\n",
    "    tf.keras.layers.Flatten(input_shape=(9, 9, 9)), # Input layer\n",
    "    tf.keras.layers.Dense(units=729, activation='relu'), # Hidden layer\n",
    "    tf.keras.layers.Dense(units=729, activation='relu'), # Hidden layer\n",
    "    tf.keras.layers.Dense(units=729, activation='relu'), # Output layer\n",
    "])"
   ]
  },
  {
   "cell_type": "code",
   "execution_count": 3,
   "metadata": {},
   "outputs": [],
   "source": [
    "# Compiling model\n",
    "\n",
    "model.compile(loss='binary_crossentropy', optimizer='sgd', metrics='accuracy')"
   ]
  },
  {
   "cell_type": "code",
   "execution_count": 11,
   "metadata": {},
   "outputs": [
    {
     "name": "stdout",
     "output_type": "stream",
     "text": [
      "(3, 9, 9)\n"
     ]
    }
   ],
   "source": [
    "# Get data\n",
    "\n",
    "data = None # TODO: Get data\n",
    "\n",
    "# Split into test and training data\n",
    "\n",
    "print(x_train.shape)"
   ]
  },
  {
   "cell_type": "code",
   "execution_count": 14,
   "metadata": {},
   "outputs": [
    {
     "ename": "NameError",
     "evalue": "name 'y_train' is not defined",
     "output_type": "error",
     "traceback": [
      "\u001B[1;31m---------------------------------------------------------------------------\u001B[0m",
      "\u001B[1;31mNameError\u001B[0m                                 Traceback (most recent call last)",
      "Cell \u001B[1;32mIn[14], line 2\u001B[0m\n\u001B[0;32m      1\u001B[0m \u001B[38;5;66;03m# Fit model to training data\u001B[39;00m\n\u001B[1;32m----> 2\u001B[0m model\u001B[38;5;241m.\u001B[39mfit(x_train, \u001B[43my_train\u001B[49m)\n",
      "\u001B[1;31mNameError\u001B[0m: name 'y_train' is not defined"
     ]
    }
   ],
   "source": [
    "# Fit model to training data\n",
    "model.fit(x_train, y_train)"
   ]
  },
  {
   "cell_type": "code",
   "execution_count": 16,
   "metadata": {},
   "outputs": [
    {
     "ename": "NameError",
     "evalue": "name 'x_test' is not defined",
     "output_type": "error",
     "traceback": [
      "\u001B[1;31m---------------------------------------------------------------------------\u001B[0m",
      "\u001B[1;31mNameError\u001B[0m                                 Traceback (most recent call last)",
      "Cell \u001B[1;32mIn[16], line 3\u001B[0m\n\u001B[0;32m      1\u001B[0m \u001B[38;5;66;03m# Evaluate model\u001B[39;00m\n\u001B[1;32m----> 3\u001B[0m model\u001B[38;5;241m.\u001B[39mevaluate(\u001B[43mx_test\u001B[49m, y_test)\n",
      "\u001B[1;31mNameError\u001B[0m: name 'x_test' is not defined"
     ]
    }
   ],
   "source": [
    "# Evaluate model\n",
    "\n",
    "model.evaluate(x_test, y_test)\n",
    "\n"
   ]
  },
  {
   "cell_type": "code",
   "execution_count": null,
   "metadata": {},
   "outputs": [],
   "source": [
    "# Predict results\n",
    "\n",
    "test_sudoku = stateFactory.generate_valid_state()\n",
    "test_sudoku_input = nn_utils.one_hot_encode(test_sudoku.board)\n",
    "\n",
    "prediction = np.array(model.predict(test_sudoku_input)) # Create 1d-array solution\n",
    "prediction_arr = prediction.reshape(9, 9, 9) # Put into 3 dimensions\n",
    "result = nn_utils.get_max_index(prediction_arr) # Extract the max index\n",
    "\n",
    "print(result)"
   ]
  }
 ],
 "metadata": {
  "kernelspec": {
   "display_name": "Python 3 (ipykernel)",
   "language": "python",
   "name": "python3"
  },
  "language_info": {
   "codemirror_mode": {
    "name": "ipython",
    "version": 3
   },
   "file_extension": ".py",
   "mimetype": "text/x-python",
   "name": "python",
   "nbconvert_exporter": "python",
   "pygments_lexer": "ipython3",
   "version": "3.10.6"
  }
 },
 "nbformat": 4,
 "nbformat_minor": 1
}
